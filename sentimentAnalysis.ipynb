{
 "cells": [
  {
   "cell_type": "code",
   "execution_count": 1,
   "id": "55f74976",
   "metadata": {},
   "outputs": [
    {
     "name": "stdout",
     "output_type": "stream",
     "text": [
      "Requirement already satisfied: requests in c:\\users\\91781\\anaconda3\\lib\\site-packages (2.28.1)\n",
      "Requirement already satisfied: pandas in c:\\users\\91781\\anaconda3\\lib\\site-packages (1.5.3)\n",
      "Requirement already satisfied: idna<4,>=2.5 in c:\\users\\91781\\anaconda3\\lib\\site-packages (from requests) (3.4)\n",
      "Requirement already satisfied: certifi>=2017.4.17 in c:\\users\\91781\\anaconda3\\lib\\site-packages (from requests) (2022.12.7)\n",
      "Requirement already satisfied: urllib3<1.27,>=1.21.1 in c:\\users\\91781\\anaconda3\\lib\\site-packages (from requests) (1.26.14)\n",
      "Requirement already satisfied: charset-normalizer<3,>=2 in c:\\users\\91781\\anaconda3\\lib\\site-packages (from requests) (2.0.4)\n",
      "Requirement already satisfied: pytz>=2020.1 in c:\\users\\91781\\anaconda3\\lib\\site-packages (from pandas) (2022.7)\n",
      "Requirement already satisfied: numpy>=1.21.0 in c:\\users\\91781\\anaconda3\\lib\\site-packages (from pandas) (1.23.5)\n",
      "Requirement already satisfied: python-dateutil>=2.8.1 in c:\\users\\91781\\anaconda3\\lib\\site-packages (from pandas) (2.8.2)\n",
      "Requirement already satisfied: six>=1.5 in c:\\users\\91781\\anaconda3\\lib\\site-packages (from python-dateutil>=2.8.1->pandas) (1.16.0)\n"
     ]
    }
   ],
   "source": [
    "!pip install requests pandas\n"
   ]
  },
  {
   "cell_type": "code",
   "execution_count": 2,
   "id": "faff8f8f",
   "metadata": {},
   "outputs": [
    {
     "name": "stdout",
     "output_type": "stream",
     "text": [
      "Error fetching data from Event Registry: 401 Client Error: Unauthorized for url: https://eventregistry.org/api/v1/event/getEvents?keyword=technology&lang=eng&limit=5\n",
      "Error fetching data from MarineTraffic: 401 Client Error: Unauthorized for url: https://services.marinetraffic.com/api/exportvessels/YOUR_API_KEY/v:3?timespan=60&msgtype=simple\n",
      "Data fetched from Logistics Performance Index: [{'message': [{'id': '120', 'key': 'Invalid value', 'value': 'The provided parameter value is not valid'}]}]\n",
      "Saved data for Logistics Performance Index to CSV.\n"
     ]
    }
   ],
   "source": [
    "import requests\n",
    "import pandas as pd\n",
    "\n",
    "# API Configurations\n",
    "apis = {\n",
    "    \"Event Registry\": {\n",
    "        \"url\": \"https://eventregistry.org/api/v1/event/getEvents\",\n",
    "        \"headers\": {\"Authorization\": \"Bearer GET\"},\n",
    "        \"params\": {\"keyword\": \"technology\", \"lang\": \"eng\", \"limit\": 5},\n",
    "    },\n",
    "    \"MarineTraffic\": {\n",
    "        \"url\": \"https://services.marinetraffic.com/api/exportvessels/YOUR_API_KEY/v:3\",\n",
    "        \"params\": {\"timespan\": 60, \"msgtype\": \"simple\"},\n",
    "    },\n",
    "    \"Logistics Performance Index\": {\n",
    "        \"url\": \"https://api.worldbank.org/v2/country/USA/indicator/LPI\",\n",
    "        \"params\": {\"format\": \"json\"},\n",
    "    },\n",
    "    # Add Freightos API when its documentation is identified\n",
    "}\n",
    "\n",
    "# Fetch Data\n",
    "results = {}\n",
    "\n",
    "for name, config in apis.items():\n",
    "    try:\n",
    "        response = requests.get(config[\"url\"], headers=config.get(\"headers\", {}), params=config.get(\"params\", {}))\n",
    "        response.raise_for_status()\n",
    "        results[name] = response.json()\n",
    "        print(f\"Data fetched from {name}: {results[name]}\")\n",
    "    except Exception as e:\n",
    "        print(f\"Error fetching data from {name}: {e}\")\n",
    "\n",
    "# Save data (Optional)\n",
    "for api_name, data in results.items():\n",
    "    df = pd.DataFrame(data)\n",
    "    df.to_csv(f\"{api_name.replace(' ', '_')}_data.csv\", index=False)\n",
    "    print(f\"Saved data for {api_name} to CSV.\")\n",
    "\n"
   ]
  },
  {
   "cell_type": "code",
   "execution_count": 6,
   "id": "0cee4003",
   "metadata": {},
   "outputs": [
    {
     "name": "stdout",
     "output_type": "stream",
     "text": [
      "Requirement already satisfied: textblob in c:\\users\\91781\\anaconda3\\lib\\site-packages (0.18.0.post0)\n",
      "Requirement already satisfied: nltk>=3.8 in c:\\users\\91781\\anaconda3\\lib\\site-packages (from textblob) (3.9.1)\n",
      "Requirement already satisfied: tqdm in c:\\users\\91781\\anaconda3\\lib\\site-packages (from nltk>=3.8->textblob) (4.64.1)\n",
      "Requirement already satisfied: joblib in c:\\users\\91781\\anaconda3\\lib\\site-packages (from nltk>=3.8->textblob) (1.1.1)\n",
      "Requirement already satisfied: regex>=2021.8.3 in c:\\users\\91781\\anaconda3\\lib\\site-packages (from nltk>=3.8->textblob) (2022.7.9)\n",
      "Requirement already satisfied: click in c:\\users\\91781\\anaconda3\\lib\\site-packages (from nltk>=3.8->textblob) (8.0.4)\n",
      "Requirement already satisfied: colorama in c:\\users\\91781\\anaconda3\\lib\\site-packages (from click->nltk>=3.8->textblob) (0.4.6)\n",
      "Note: you may need to restart the kernel to use updated packages.\n"
     ]
    }
   ],
   "source": [
    "pip install textblob"
   ]
  },
  {
   "cell_type": "code",
   "execution_count": 1,
   "id": "dcf108b1",
   "metadata": {},
   "outputs": [
    {
     "name": "stdout",
     "output_type": "stream",
     "text": [
      "Sentiment(polarity=0.625, subjectivity=0.6)\n"
     ]
    }
   ],
   "source": [
    "from textblob import TextBlob\n",
    "\n",
    "# Example TextBlob usage\n",
    "text = \"I love working with Jupyter notebooks!\"\n",
    "blob = TextBlob(text)\n",
    "print(blob.sentiment)\n"
   ]
  },
  {
   "cell_type": "code",
   "execution_count": 2,
   "id": "9d2b032e",
   "metadata": {},
   "outputs": [
    {
     "name": "stdout",
     "output_type": "stream",
     "text": [
      "Requirement already satisfied: requests in c:\\users\\91781\\anaconda3\\lib\\site-packages (2.28.1)\n",
      "Requirement already satisfied: textblob in c:\\users\\91781\\anaconda3\\lib\\site-packages (0.18.0.post0)\n",
      "Requirement already satisfied: urllib3<1.27,>=1.21.1 in c:\\users\\91781\\anaconda3\\lib\\site-packages (from requests) (1.26.14)\n",
      "Requirement already satisfied: certifi>=2017.4.17 in c:\\users\\91781\\anaconda3\\lib\\site-packages (from requests) (2022.12.7)\n",
      "Requirement already satisfied: charset-normalizer<3,>=2 in c:\\users\\91781\\anaconda3\\lib\\site-packages (from requests) (2.0.4)\n",
      "Requirement already satisfied: idna<4,>=2.5 in c:\\users\\91781\\anaconda3\\lib\\site-packages (from requests) (3.4)\n",
      "Requirement already satisfied: nltk>=3.8 in c:\\users\\91781\\anaconda3\\lib\\site-packages (from textblob) (3.9.1)\n",
      "Requirement already satisfied: click in c:\\users\\91781\\anaconda3\\lib\\site-packages (from nltk>=3.8->textblob) (8.0.4)\n",
      "Requirement already satisfied: tqdm in c:\\users\\91781\\anaconda3\\lib\\site-packages (from nltk>=3.8->textblob) (4.64.1)\n",
      "Requirement already satisfied: regex>=2021.8.3 in c:\\users\\91781\\anaconda3\\lib\\site-packages (from nltk>=3.8->textblob) (2022.7.9)\n",
      "Requirement already satisfied: joblib in c:\\users\\91781\\anaconda3\\lib\\site-packages (from nltk>=3.8->textblob) (1.1.1)\n",
      "Requirement already satisfied: colorama in c:\\users\\91781\\anaconda3\\lib\\site-packages (from click->nltk>=3.8->textblob) (0.4.6)\n"
     ]
    }
   ],
   "source": [
    "!pip install requests textblob"
   ]
  },
  {
   "cell_type": "code",
   "execution_count": 3,
   "id": "4dd5c114",
   "metadata": {},
   "outputs": [
    {
     "name": "stdout",
     "output_type": "stream",
     "text": [
      "Title: Decorated Green Beret’s tragic end: Cybertruck explosion highlights mental health struggle\n",
      "Sentiment (Title) - Polarity: -0.35000000000000003, Subjectivity: 0.4166666666666667\n",
      "Sentiment (Description) - Polarity: -0.35000000000000003, Subjectivity: 0.4166666666666667\n",
      "\n",
      "--------------------------------------------------\n",
      "\n",
      "Title: Musk Európában is érvényesíti jobboldali befolyását\n",
      "Sentiment (Title) - Polarity: 0.0, Subjectivity: 0.0\n",
      "Sentiment (Description) - Polarity: 0.0, Subjectivity: 0.0\n",
      "\n",
      "--------------------------------------------------\n",
      "\n",
      "Title: Trump'ın Las Vegas'taki otelinin önünde aracını patlatan sürücünün notlarına ulaşıldı: 'ABD çöküşe doğru gidiyor'\n",
      "Sentiment (Title) - Polarity: 0.0, Subjectivity: 0.0\n",
      "Sentiment (Description) - Polarity: 0.0, Subjectivity: 0.0\n",
      "\n",
      "--------------------------------------------------\n",
      "\n",
      "Title: Soldier Who Died By Suicide In Las Vegas Told Ex-Girlfriend Of Pain And Exhaustion After Afghanistan\n",
      "Sentiment (Title) - Polarity: 0.0, Subjectivity: 0.0\n",
      "Sentiment (Description) - Polarity: -0.03181818181818183, Subjectivity: 0.37727272727272726\n",
      "\n",
      "--------------------------------------------------\n",
      "\n",
      "Title: 2024: The Year of the Billionaire\n",
      "Sentiment (Title) - Polarity: 0.0, Subjectivity: 0.0\n",
      "Sentiment (Description) - Polarity: 0.0, Subjectivity: 0.4083333333333333\n",
      "\n",
      "--------------------------------------------------\n",
      "\n",
      "Title: FBI diz que suspeito de explosão de Tesla não tinha animosidade contra Trump\n",
      "Sentiment (Title) - Polarity: 0.0, Subjectivity: 0.0\n",
      "Sentiment (Description) - Polarity: 0.25, Subjectivity: 0.3333333333333333\n",
      "\n",
      "--------------------------------------------------\n",
      "\n",
      "Title: Dow Jones Futures: Market Jumps; Nvidia Leads New Buys As CEO Jensen Huang Looms\n",
      "Sentiment (Title) - Polarity: 0.13636363636363635, Subjectivity: 0.45454545454545453\n",
      "Sentiment (Description) - Polarity: 0.03125, Subjectivity: 0.25\n",
      "\n",
      "--------------------------------------------------\n",
      "\n",
      "Title: Tesla price target raised to $275 from $195 at Evercore ISI\n",
      "Sentiment (Title) - Polarity: 0.0, Subjectivity: 0.0\n",
      "Sentiment (Description) - Polarity: -0.05000000000000001, Subjectivity: 0.35000000000000003\n",
      "\n",
      "--------------------------------------------------\n",
      "\n",
      "Title: PR experts say Elon Musk’s handling of the Tesla Cybertruck explosion in Las Vegas was a masterclass\n",
      "Sentiment (Title) - Polarity: 0.0, Subjectivity: 0.0\n",
      "Sentiment (Description) - Polarity: 0.5, Subjectivity: 0.5\n",
      "\n",
      "--------------------------------------------------\n",
      "\n",
      "Title: [Removed]\n",
      "Sentiment (Title) - Polarity: 0.0, Subjectivity: 0.0\n",
      "Sentiment (Description) - Polarity: 0.0, Subjectivity: 0.0\n",
      "\n",
      "--------------------------------------------------\n",
      "\n",
      "Title: Trump'ın Las Vegas'taki otelinin önünde aracını patlatan sürücünün notlarına ulaşıldı\n",
      "Sentiment (Title) - Polarity: 0.0, Subjectivity: 0.0\n",
      "Sentiment (Description) - Polarity: 0.0, Subjectivity: 0.0\n",
      "\n",
      "--------------------------------------------------\n",
      "\n",
      "Title: Este robot quiere sustituir a los trabajadores en las fábricas y está más cerca de lograrlo de lo que parece\n",
      "Sentiment (Title) - Polarity: 0.0, Subjectivity: 0.0\n",
      "Sentiment (Description) - Polarity: 0.0, Subjectivity: 0.0\n",
      "\n",
      "--------------------------------------------------\n",
      "\n",
      "Title: Da inizio 2025 il patrimonio di Elon Musk è già cresciuto di 4 miliardi di Dollari\n",
      "Sentiment (Title) - Polarity: 0.0, Subjectivity: 0.0\n",
      "Sentiment (Description) - Polarity: 0.0, Subjectivity: 0.0\n",
      "\n",
      "--------------------------------------------------\n",
      "\n",
      "Title: America needs to wake up to the terror at its doorsteps\n",
      "Sentiment (Title) - Polarity: 0.0, Subjectivity: 0.0\n",
      "Sentiment (Description) - Polarity: 0.19318181818181818, Subjectivity: 0.3772727272727273\n",
      "\n",
      "--------------------------------------------------\n",
      "\n",
      "Title: Hur ett av historiens sämsta racingspel utvecklades\n",
      "Sentiment (Title) - Polarity: 0.0, Subjectivity: 0.0\n",
      "Sentiment (Description) - Polarity: 0.0, Subjectivity: 0.0\n",
      "\n",
      "--------------------------------------------------\n",
      "\n",
      "Title: Tesla price target lowered to $351 from $360 at Truist\n",
      "Sentiment (Title) - Polarity: 0.0, Subjectivity: 0.0\n",
      "Sentiment (Description) - Polarity: -0.2, Subjectivity: 0.4\n",
      "\n",
      "--------------------------------------------------\n",
      "\n",
      "Title: Tesla (NASDAQ:TSLA) Shares Gap Down – What’s Next?\n",
      "Sentiment (Title) - Polarity: -0.07777777777777779, Subjectivity: 0.14444444444444446\n",
      "Sentiment (Description) - Polarity: 0.028888888888888888, Subjectivity: 0.2511111111111112\n",
      "\n",
      "--------------------------------------------------\n",
      "\n",
      "Title: Tesla price target raised to $275 from $195 at Evercore ISI\n",
      "Sentiment (Title) - Polarity: 0.0, Subjectivity: 0.0\n",
      "\n",
      "--------------------------------------------------\n",
      "\n",
      "Title: El FBI considera que la explosión en Las Vegas fue un caso de suicidio por estrés postraumático de un veterano de guerra\n",
      "Sentiment (Title) - Polarity: 0.0, Subjectivity: 0.0\n",
      "Sentiment (Description) - Polarity: 0.0, Subjectivity: 0.0\n",
      "\n",
      "--------------------------------------------------\n",
      "\n",
      "Title: Reacția cancelarului Germaniei, după ce Musk l-a numit „imbecil incompetent”\n",
      "Sentiment (Title) - Polarity: -0.35, Subjectivity: 0.3666666666666667\n",
      "Sentiment (Description) - Polarity: 0.0, Subjectivity: 0.0\n",
      "\n",
      "--------------------------------------------------\n",
      "\n"
     ]
    },
    {
     "ename": "TypeError",
     "evalue": "The `text` argument passed to `__init__(text)` must be a string, not <class 'NoneType'>",
     "output_type": "error",
     "traceback": [
      "\u001b[1;31m---------------------------------------------------------------------------\u001b[0m",
      "\u001b[1;31mTypeError\u001b[0m                                 Traceback (most recent call last)",
      "Cell \u001b[1;32mIn[3], line 25\u001b[0m\n\u001b[0;32m     22\u001b[0m description \u001b[38;5;241m=\u001b[39m article[\u001b[38;5;124m'\u001b[39m\u001b[38;5;124mdescription\u001b[39m\u001b[38;5;124m'\u001b[39m]\n\u001b[0;32m     24\u001b[0m \u001b[38;5;66;03m# You can choose to analyze the title or description or both\u001b[39;00m\n\u001b[1;32m---> 25\u001b[0m sentiment_title \u001b[38;5;241m=\u001b[39m \u001b[43mget_sentiment\u001b[49m\u001b[43m(\u001b[49m\u001b[43mtitle\u001b[49m\u001b[43m)\u001b[49m\n\u001b[0;32m     26\u001b[0m sentiment_description \u001b[38;5;241m=\u001b[39m get_sentiment(description) \u001b[38;5;28;01mif\u001b[39;00m description \u001b[38;5;28;01melse\u001b[39;00m \u001b[38;5;28;01mNone\u001b[39;00m\n\u001b[0;32m     28\u001b[0m \u001b[38;5;28mprint\u001b[39m(\u001b[38;5;124mf\u001b[39m\u001b[38;5;124m\"\u001b[39m\u001b[38;5;124mTitle: \u001b[39m\u001b[38;5;132;01m{\u001b[39;00mtitle\u001b[38;5;132;01m}\u001b[39;00m\u001b[38;5;124m\"\u001b[39m)\n",
      "Cell \u001b[1;32mIn[3], line 16\u001b[0m, in \u001b[0;36mget_sentiment\u001b[1;34m(text)\u001b[0m\n\u001b[0;32m     15\u001b[0m \u001b[38;5;28;01mdef\u001b[39;00m \u001b[38;5;21mget_sentiment\u001b[39m(text):\n\u001b[1;32m---> 16\u001b[0m     blob \u001b[38;5;241m=\u001b[39m \u001b[43mTextBlob\u001b[49m\u001b[43m(\u001b[49m\u001b[43mtext\u001b[49m\u001b[43m)\u001b[49m\n\u001b[0;32m     17\u001b[0m     \u001b[38;5;28;01mreturn\u001b[39;00m blob\u001b[38;5;241m.\u001b[39msentiment\u001b[38;5;241m.\u001b[39mpolarity, blob\u001b[38;5;241m.\u001b[39msentiment\u001b[38;5;241m.\u001b[39msubjectivity\n",
      "File \u001b[1;32m~\\anaconda3\\lib\\site-packages\\textblob\\blob.py:371\u001b[0m, in \u001b[0;36mBaseBlob.__init__\u001b[1;34m(self, text, tokenizer, pos_tagger, np_extractor, analyzer, parser, classifier, clean_html)\u001b[0m\n\u001b[0;32m    359\u001b[0m \u001b[38;5;28;01mdef\u001b[39;00m \u001b[38;5;21m__init__\u001b[39m(\n\u001b[0;32m    360\u001b[0m     \u001b[38;5;28mself\u001b[39m,\n\u001b[0;32m    361\u001b[0m     text,\n\u001b[1;32m   (...)\u001b[0m\n\u001b[0;32m    368\u001b[0m     clean_html\u001b[38;5;241m=\u001b[39m\u001b[38;5;28;01mFalse\u001b[39;00m,\n\u001b[0;32m    369\u001b[0m ):\n\u001b[0;32m    370\u001b[0m     \u001b[38;5;28;01mif\u001b[39;00m \u001b[38;5;129;01mnot\u001b[39;00m \u001b[38;5;28misinstance\u001b[39m(text, basestring):\n\u001b[1;32m--> 371\u001b[0m         \u001b[38;5;28;01mraise\u001b[39;00m \u001b[38;5;167;01mTypeError\u001b[39;00m(\n\u001b[0;32m    372\u001b[0m             \u001b[38;5;124m\"\u001b[39m\u001b[38;5;124mThe `text` argument passed to `__init__(text)` \u001b[39m\u001b[38;5;124m\"\u001b[39m\n\u001b[0;32m    373\u001b[0m             \u001b[38;5;124mf\u001b[39m\u001b[38;5;124m\"\u001b[39m\u001b[38;5;124mmust be a string, not \u001b[39m\u001b[38;5;132;01m{\u001b[39;00m\u001b[38;5;28mtype\u001b[39m(text)\u001b[38;5;132;01m}\u001b[39;00m\u001b[38;5;124m\"\u001b[39m\n\u001b[0;32m    374\u001b[0m         )\n\u001b[0;32m    375\u001b[0m     \u001b[38;5;28;01mif\u001b[39;00m clean_html:\n\u001b[0;32m    376\u001b[0m         \u001b[38;5;28;01mraise\u001b[39;00m \u001b[38;5;167;01mNotImplementedError\u001b[39;00m(\n\u001b[0;32m    377\u001b[0m             \u001b[38;5;124m\"\u001b[39m\u001b[38;5;124mclean_html has been deprecated. \u001b[39m\u001b[38;5;124m\"\u001b[39m\n\u001b[0;32m    378\u001b[0m             \u001b[38;5;124m\"\u001b[39m\u001b[38;5;124mTo remove HTML markup, use BeautifulSoup\u001b[39m\u001b[38;5;124m'\u001b[39m\u001b[38;5;124ms \u001b[39m\u001b[38;5;124m\"\u001b[39m\n\u001b[0;32m    379\u001b[0m             \u001b[38;5;124m\"\u001b[39m\u001b[38;5;124mget_text() function\u001b[39m\u001b[38;5;124m\"\u001b[39m\n\u001b[0;32m    380\u001b[0m         )\n",
      "\u001b[1;31mTypeError\u001b[0m: The `text` argument passed to `__init__(text)` must be a string, not <class 'NoneType'>"
     ]
    }
   ],
   "source": [
    "import requests\n",
    "from textblob import TextBlob\n",
    "\n",
    "# Your NewsAPI URL\n",
    "url = \"https://newsapi.org/v2/everything?q=tesla&from=2024-12-05&sortBy=publishedAt&apiKey=6ec98296f5164e5593eea223e83e1585\"\n",
    "\n",
    "# Make the request\n",
    "response = requests.get(url)\n",
    "data = response.json()\n",
    "\n",
    "# Extract articles from the response\n",
    "articles = data['articles']\n",
    "\n",
    "# Function to get sentiment for each article\n",
    "def get_sentiment(text):\n",
    "    blob = TextBlob(text)\n",
    "    return blob.sentiment.polarity, blob.sentiment.subjectivity\n",
    "\n",
    "# Iterate through articles and perform sentiment analysis on the title or description\n",
    "for article in articles:\n",
    "    title = article['title']\n",
    "    description = article['description']\n",
    "    \n",
    "    # You can choose to analyze the title or description or both\n",
    "    sentiment_title = get_sentiment(title)\n",
    "    sentiment_description = get_sentiment(description) if description else None\n",
    "    \n",
    "    print(f\"Title: {title}\")\n",
    "    print(f\"Sentiment (Title) - Polarity: {sentiment_title[0]}, Subjectivity: {sentiment_title[1]}\")\n",
    "    if sentiment_description:\n",
    "        print(f\"Sentiment (Description) - Polarity: {sentiment_description[0]}, Subjectivity: {sentiment_description[1]}\")\n",
    "    print(\"\\n\" + \"-\"*50 + \"\\n\")"
   ]
  },
  {
   "cell_type": "code",
   "execution_count": null,
   "id": "ccb65f50",
   "metadata": {},
   "outputs": [],
   "source": []
  }
 ],
 "metadata": {
  "kernelspec": {
   "display_name": "Python 3 (ipykernel)",
   "language": "python",
   "name": "python3"
  },
  "language_info": {
   "codemirror_mode": {
    "name": "ipython",
    "version": 3
   },
   "file_extension": ".py",
   "mimetype": "text/x-python",
   "name": "python",
   "nbconvert_exporter": "python",
   "pygments_lexer": "ipython3",
   "version": "3.10.9"
  }
 },
 "nbformat": 4,
 "nbformat_minor": 5
}
