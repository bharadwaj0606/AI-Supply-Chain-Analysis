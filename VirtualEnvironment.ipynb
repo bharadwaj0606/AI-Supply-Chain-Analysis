{
 "cells": [
  {
   "cell_type": "code",
   "execution_count": 23,
   "id": "97a0d958",
   "metadata": {},
   "outputs": [
    {
     "name": "stdout",
     "output_type": "stream",
     "text": [
      "Requirement already satisfied: pip in c:\\users\\91781\\ai supply chain\\myenv\\lib\\site-packages (24.3.1)\n",
      "Requirement already satisfied: requests in c:\\users\\91781\\ai supply chain\\myenv\\lib\\site-packages (2.32.3)\n",
      "Requirement already satisfied: charset-normalizer<4,>=2 in c:\\users\\91781\\ai supply chain\\myenv\\lib\\site-packages (from requests) (3.4.1)\n",
      "Requirement already satisfied: idna<4,>=2.5 in c:\\users\\91781\\ai supply chain\\myenv\\lib\\site-packages (from requests) (3.10)\n",
      "Requirement already satisfied: urllib3<3,>=1.21.1 in c:\\users\\91781\\ai supply chain\\myenv\\lib\\site-packages (from requests) (2.3.0)\n",
      "Requirement already satisfied: certifi>=2017.4.17 in c:\\users\\91781\\ai supply chain\\myenv\\lib\\site-packages (from requests) (2024.12.14)\n",
      "Package            Version\n",
      "------------------ ----------\n",
      "certifi            2024.12.14\n",
      "charset-normalizer 3.4.1\n",
      "idna               3.10\n",
      "pip                24.3.1\n",
      "requests           2.32.3\n",
      "setuptools         65.5.0\n",
      "urllib3            2.3.0\n",
      "Python 3.10.9\n",
      "Found existing installation: requests 2.32.3\n",
      "Uninstalling requests-2.32.3:\n",
      "  Successfully uninstalled requests-2.32.3\n"
     ]
    }
   ],
   "source": [
    "# Create a virtual environment named 'myenv'\n",
    "!python -m venv myenv\n",
    "# Activate the virtual environment on Windows\n",
    "!myenv\\Scripts\\activate.bat\n",
    "# Upgrade pip inside the virtual environment\n",
    "!myenv\\Scripts\\python -m pip install --upgrade pip\n",
    "# Install a package, e.g., 'requests'\n",
    "!myenv\\Scripts\\python -m pip install requests\n",
    "# List installed packages\n",
    "!myenv\\Scripts\\python -m pip list\n",
    "# Check Python version\n",
    "!myenv\\Scripts\\python --version\n",
    "# Uninstall a package, for example, 'requests'\n",
    "!myenv\\scripts\\python -m pip uninstall -y requests"
   ]
  },
  {
   "cell_type": "code",
   "execution_count": null,
   "id": "6f158606",
   "metadata": {},
   "outputs": [],
   "source": []
  }
 ],
 "metadata": {
  "kernelspec": {
   "display_name": "Python 3 (ipykernel)",
   "language": "python",
   "name": "python3"
  },
  "language_info": {
   "codemirror_mode": {
    "name": "ipython",
    "version": 3
   },
   "file_extension": ".py",
   "mimetype": "text/x-python",
   "name": "python",
   "nbconvert_exporter": "python",
   "pygments_lexer": "ipython3",
   "version": "3.10.9"
  }
 },
 "nbformat": 4,
 "nbformat_minor": 5
}
